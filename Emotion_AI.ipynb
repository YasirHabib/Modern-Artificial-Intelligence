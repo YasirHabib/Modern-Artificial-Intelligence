{
  "nbformat": 4,
  "nbformat_minor": 0,
  "metadata": {
    "colab": {
      "name": "Emotion AI.ipynb",
      "provenance": [],
      "collapsed_sections": [],
      "authorship_tag": "ABX9TyNs+h9fYtXSCqJu7bzGVCl5"
    },
    "kernelspec": {
      "name": "python3",
      "display_name": "Python 3"
    }
  },
  "cells": [
    {
      "cell_type": "code",
      "metadata": {
        "id": "jEQN54eq2iha"
      },
      "source": [
        "import numpy as np\r\n",
        "import pandas as pd\r\n",
        "import matplotlib.pyplot as plt\r\n",
        "import os"
      ],
      "execution_count": 1,
      "outputs": []
    },
    {
      "cell_type": "code",
      "metadata": {
        "id": "c3LyAdxl4kaX",
        "colab": {
          "base_uri": "https://localhost:8080/"
        },
        "outputId": "3f191815-d270-49cd-8f1a-369685a82d74"
      },
      "source": [
        "from google.colab import drive\r\n",
        "drive.mount('/content/gdrive')"
      ],
      "execution_count": 2,
      "outputs": [
        {
          "output_type": "stream",
          "text": [
            "Mounted at /content/gdrive\n"
          ],
          "name": "stdout"
        }
      ]
    },
    {
      "cell_type": "code",
      "metadata": {
        "id": "MUb7ruOZHDna"
      },
      "source": [
        "path = '/content/gdrive/My Drive/Colab Notebooks/Modern Artificial Intelligence/Emotion AI Dataset/'"
      ],
      "execution_count": 5,
      "outputs": []
    },
    {
      "cell_type": "code",
      "metadata": {
        "colab": {
          "base_uri": "https://localhost:8080/"
        },
        "id": "JhaCS2GrDrOP",
        "outputId": "7e60a38c-34cf-4bec-d2c4-35a1a317e233"
      },
      "source": [
        "!ls"
      ],
      "execution_count": 6,
      "outputs": [
        {
          "output_type": "stream",
          "text": [
            "gdrive\tsample_data\n"
          ],
          "name": "stdout"
        }
      ]
    },
    {
      "cell_type": "code",
      "metadata": {
        "id": "JZFE5vNiMV9l"
      },
      "source": [
        "data = os.path.join(path, 'data.csv')"
      ],
      "execution_count": 18,
      "outputs": []
    },
    {
      "cell_type": "code",
      "metadata": {
        "colab": {
          "base_uri": "https://localhost:8080/"
        },
        "id": "0O9iY_K4GgQo",
        "outputId": "a0c596af-ccfb-436b-f6c8-d1f0834fc397"
      },
      "source": [
        "df = pd.read_csv(data)\r\n",
        "df.info()"
      ],
      "execution_count": 19,
      "outputs": [
        {
          "output_type": "stream",
          "text": [
            "<class 'pandas.core.frame.DataFrame'>\n",
            "RangeIndex: 2140 entries, 0 to 2139\n",
            "Data columns (total 31 columns):\n",
            " #   Column                     Non-Null Count  Dtype  \n",
            "---  ------                     --------------  -----  \n",
            " 0   left_eye_center_x          2140 non-null   float64\n",
            " 1   left_eye_center_y          2140 non-null   float64\n",
            " 2   right_eye_center_x         2140 non-null   float64\n",
            " 3   right_eye_center_y         2140 non-null   float64\n",
            " 4   left_eye_inner_corner_x    2140 non-null   float64\n",
            " 5   left_eye_inner_corner_y    2140 non-null   float64\n",
            " 6   left_eye_outer_corner_x    2140 non-null   float64\n",
            " 7   left_eye_outer_corner_y    2140 non-null   float64\n",
            " 8   right_eye_inner_corner_x   2140 non-null   float64\n",
            " 9   right_eye_inner_corner_y   2140 non-null   float64\n",
            " 10  right_eye_outer_corner_x   2140 non-null   float64\n",
            " 11  right_eye_outer_corner_y   2140 non-null   float64\n",
            " 12  left_eyebrow_inner_end_x   2140 non-null   float64\n",
            " 13  left_eyebrow_inner_end_y   2140 non-null   float64\n",
            " 14  left_eyebrow_outer_end_x   2140 non-null   float64\n",
            " 15  left_eyebrow_outer_end_y   2140 non-null   float64\n",
            " 16  right_eyebrow_inner_end_x  2140 non-null   float64\n",
            " 17  right_eyebrow_inner_end_y  2140 non-null   float64\n",
            " 18  right_eyebrow_outer_end_x  2140 non-null   float64\n",
            " 19  right_eyebrow_outer_end_y  2140 non-null   float64\n",
            " 20  nose_tip_x                 2140 non-null   float64\n",
            " 21  nose_tip_y                 2140 non-null   float64\n",
            " 22  mouth_left_corner_x        2140 non-null   float64\n",
            " 23  mouth_left_corner_y        2140 non-null   float64\n",
            " 24  mouth_right_corner_x       2140 non-null   float64\n",
            " 25  mouth_right_corner_y       2140 non-null   float64\n",
            " 26  mouth_center_top_lip_x     2140 non-null   float64\n",
            " 27  mouth_center_top_lip_y     2140 non-null   float64\n",
            " 28  mouth_center_bottom_lip_x  2140 non-null   float64\n",
            " 29  mouth_center_bottom_lip_y  2140 non-null   float64\n",
            " 30  Image                      2140 non-null   object \n",
            "dtypes: float64(30), object(1)\n",
            "memory usage: 518.4+ KB\n"
          ],
          "name": "stdout"
        }
      ]
    },
    {
      "cell_type": "code",
      "metadata": {
        "colab": {
          "base_uri": "https://localhost:8080/",
          "height": 1000
        },
        "id": "z6laUIWoI5RW",
        "outputId": "fd3f2f13-c196-4e5c-cd77-9a0addbfa1b1"
      },
      "source": [
        "df.head()"
      ],
      "execution_count": 20,
      "outputs": [
        {
          "output_type": "execute_result",
          "data": {
            "text/html": [
              "<div>\n",
              "<style scoped>\n",
              "    .dataframe tbody tr th:only-of-type {\n",
              "        vertical-align: middle;\n",
              "    }\n",
              "\n",
              "    .dataframe tbody tr th {\n",
              "        vertical-align: top;\n",
              "    }\n",
              "\n",
              "    .dataframe thead th {\n",
              "        text-align: right;\n",
              "    }\n",
              "</style>\n",
              "<table border=\"1\" class=\"dataframe\">\n",
              "  <thead>\n",
              "    <tr style=\"text-align: right;\">\n",
              "      <th></th>\n",
              "      <th>left_eye_center_x</th>\n",
              "      <th>left_eye_center_y</th>\n",
              "      <th>right_eye_center_x</th>\n",
              "      <th>right_eye_center_y</th>\n",
              "      <th>left_eye_inner_corner_x</th>\n",
              "      <th>left_eye_inner_corner_y</th>\n",
              "      <th>left_eye_outer_corner_x</th>\n",
              "      <th>left_eye_outer_corner_y</th>\n",
              "      <th>right_eye_inner_corner_x</th>\n",
              "      <th>right_eye_inner_corner_y</th>\n",
              "      <th>right_eye_outer_corner_x</th>\n",
              "      <th>right_eye_outer_corner_y</th>\n",
              "      <th>left_eyebrow_inner_end_x</th>\n",
              "      <th>left_eyebrow_inner_end_y</th>\n",
              "      <th>left_eyebrow_outer_end_x</th>\n",
              "      <th>left_eyebrow_outer_end_y</th>\n",
              "      <th>right_eyebrow_inner_end_x</th>\n",
              "      <th>right_eyebrow_inner_end_y</th>\n",
              "      <th>right_eyebrow_outer_end_x</th>\n",
              "      <th>right_eyebrow_outer_end_y</th>\n",
              "      <th>nose_tip_x</th>\n",
              "      <th>nose_tip_y</th>\n",
              "      <th>mouth_left_corner_x</th>\n",
              "      <th>mouth_left_corner_y</th>\n",
              "      <th>mouth_right_corner_x</th>\n",
              "      <th>mouth_right_corner_y</th>\n",
              "      <th>mouth_center_top_lip_x</th>\n",
              "      <th>mouth_center_top_lip_y</th>\n",
              "      <th>mouth_center_bottom_lip_x</th>\n",
              "      <th>mouth_center_bottom_lip_y</th>\n",
              "      <th>Image</th>\n",
              "    </tr>\n",
              "  </thead>\n",
              "  <tbody>\n",
              "    <tr>\n",
              "      <th>0</th>\n",
              "      <td>66.033564</td>\n",
              "      <td>39.002274</td>\n",
              "      <td>30.227008</td>\n",
              "      <td>36.421678</td>\n",
              "      <td>59.582075</td>\n",
              "      <td>39.647423</td>\n",
              "      <td>73.130346</td>\n",
              "      <td>39.969997</td>\n",
              "      <td>36.356571</td>\n",
              "      <td>37.389402</td>\n",
              "      <td>23.452872</td>\n",
              "      <td>37.389402</td>\n",
              "      <td>56.953263</td>\n",
              "      <td>29.033648</td>\n",
              "      <td>80.227128</td>\n",
              "      <td>32.228138</td>\n",
              "      <td>40.227609</td>\n",
              "      <td>29.002322</td>\n",
              "      <td>16.356379</td>\n",
              "      <td>29.647471</td>\n",
              "      <td>44.420571</td>\n",
              "      <td>57.066803</td>\n",
              "      <td>61.195308</td>\n",
              "      <td>79.970165</td>\n",
              "      <td>28.614496</td>\n",
              "      <td>77.388992</td>\n",
              "      <td>43.312602</td>\n",
              "      <td>72.935459</td>\n",
              "      <td>43.130707</td>\n",
              "      <td>84.485774</td>\n",
              "      <td>238 236 237 238 240 240 239 241 241 243 240 23...</td>\n",
              "    </tr>\n",
              "    <tr>\n",
              "      <th>1</th>\n",
              "      <td>64.332936</td>\n",
              "      <td>34.970077</td>\n",
              "      <td>29.949277</td>\n",
              "      <td>33.448715</td>\n",
              "      <td>58.856170</td>\n",
              "      <td>35.274349</td>\n",
              "      <td>70.722723</td>\n",
              "      <td>36.187166</td>\n",
              "      <td>36.034723</td>\n",
              "      <td>34.361532</td>\n",
              "      <td>24.472511</td>\n",
              "      <td>33.144443</td>\n",
              "      <td>53.987404</td>\n",
              "      <td>28.275949</td>\n",
              "      <td>78.634213</td>\n",
              "      <td>30.405923</td>\n",
              "      <td>42.728851</td>\n",
              "      <td>26.146043</td>\n",
              "      <td>16.865362</td>\n",
              "      <td>27.058860</td>\n",
              "      <td>48.206298</td>\n",
              "      <td>55.660936</td>\n",
              "      <td>56.421447</td>\n",
              "      <td>76.352000</td>\n",
              "      <td>35.122383</td>\n",
              "      <td>76.047660</td>\n",
              "      <td>46.684596</td>\n",
              "      <td>70.266553</td>\n",
              "      <td>45.467915</td>\n",
              "      <td>85.480170</td>\n",
              "      <td>219 215 204 196 204 211 212 200 180 168 178 19...</td>\n",
              "    </tr>\n",
              "    <tr>\n",
              "      <th>2</th>\n",
              "      <td>65.057053</td>\n",
              "      <td>34.909642</td>\n",
              "      <td>30.903789</td>\n",
              "      <td>34.909642</td>\n",
              "      <td>59.412000</td>\n",
              "      <td>36.320968</td>\n",
              "      <td>70.984421</td>\n",
              "      <td>36.320968</td>\n",
              "      <td>37.678105</td>\n",
              "      <td>36.320968</td>\n",
              "      <td>24.976421</td>\n",
              "      <td>36.603221</td>\n",
              "      <td>55.742526</td>\n",
              "      <td>27.570947</td>\n",
              "      <td>78.887368</td>\n",
              "      <td>32.651621</td>\n",
              "      <td>42.193895</td>\n",
              "      <td>28.135453</td>\n",
              "      <td>16.791158</td>\n",
              "      <td>32.087116</td>\n",
              "      <td>47.557263</td>\n",
              "      <td>53.538947</td>\n",
              "      <td>60.822947</td>\n",
              "      <td>73.014316</td>\n",
              "      <td>33.726316</td>\n",
              "      <td>72.732000</td>\n",
              "      <td>47.274947</td>\n",
              "      <td>70.191789</td>\n",
              "      <td>47.274947</td>\n",
              "      <td>78.659368</td>\n",
              "      <td>144 142 159 180 188 188 184 180 167 132 84 59 ...</td>\n",
              "    </tr>\n",
              "    <tr>\n",
              "      <th>3</th>\n",
              "      <td>65.225739</td>\n",
              "      <td>37.261774</td>\n",
              "      <td>32.023096</td>\n",
              "      <td>37.261774</td>\n",
              "      <td>60.003339</td>\n",
              "      <td>39.127179</td>\n",
              "      <td>72.314713</td>\n",
              "      <td>38.380967</td>\n",
              "      <td>37.618643</td>\n",
              "      <td>38.754115</td>\n",
              "      <td>25.307270</td>\n",
              "      <td>38.007903</td>\n",
              "      <td>56.433809</td>\n",
              "      <td>30.929864</td>\n",
              "      <td>77.910261</td>\n",
              "      <td>31.665725</td>\n",
              "      <td>41.671513</td>\n",
              "      <td>31.049990</td>\n",
              "      <td>20.458017</td>\n",
              "      <td>29.909343</td>\n",
              "      <td>51.885078</td>\n",
              "      <td>54.166539</td>\n",
              "      <td>65.598887</td>\n",
              "      <td>72.703722</td>\n",
              "      <td>37.245496</td>\n",
              "      <td>74.195478</td>\n",
              "      <td>50.303165</td>\n",
              "      <td>70.091687</td>\n",
              "      <td>51.561183</td>\n",
              "      <td>78.268383</td>\n",
              "      <td>193 192 193 194 194 194 193 192 168 111 50 12 ...</td>\n",
              "    </tr>\n",
              "    <tr>\n",
              "      <th>4</th>\n",
              "      <td>66.725301</td>\n",
              "      <td>39.621261</td>\n",
              "      <td>32.244810</td>\n",
              "      <td>38.042032</td>\n",
              "      <td>58.565890</td>\n",
              "      <td>39.621261</td>\n",
              "      <td>72.515926</td>\n",
              "      <td>39.884466</td>\n",
              "      <td>36.982380</td>\n",
              "      <td>39.094852</td>\n",
              "      <td>22.506110</td>\n",
              "      <td>38.305237</td>\n",
              "      <td>57.249571</td>\n",
              "      <td>30.672177</td>\n",
              "      <td>77.762945</td>\n",
              "      <td>31.737247</td>\n",
              "      <td>38.035436</td>\n",
              "      <td>30.935382</td>\n",
              "      <td>15.925870</td>\n",
              "      <td>30.672177</td>\n",
              "      <td>43.299534</td>\n",
              "      <td>64.889521</td>\n",
              "      <td>60.671411</td>\n",
              "      <td>77.523239</td>\n",
              "      <td>31.191755</td>\n",
              "      <td>76.997301</td>\n",
              "      <td>44.962748</td>\n",
              "      <td>73.707387</td>\n",
              "      <td>44.227141</td>\n",
              "      <td>86.871166</td>\n",
              "      <td>147 148 160 196 215 214 216 217 219 220 206 18...</td>\n",
              "    </tr>\n",
              "  </tbody>\n",
              "</table>\n",
              "</div>"
            ],
            "text/plain": [
              "   left_eye_center_x  ...                                              Image\n",
              "0          66.033564  ...  238 236 237 238 240 240 239 241 241 243 240 23...\n",
              "1          64.332936  ...  219 215 204 196 204 211 212 200 180 168 178 19...\n",
              "2          65.057053  ...  144 142 159 180 188 188 184 180 167 132 84 59 ...\n",
              "3          65.225739  ...  193 192 193 194 194 194 193 192 168 111 50 12 ...\n",
              "4          66.725301  ...  147 148 160 196 215 214 216 217 219 220 206 18...\n",
              "\n",
              "[5 rows x 31 columns]"
            ]
          },
          "metadata": {
            "tags": []
          },
          "execution_count": 20
        }
      ]
    },
    {
      "cell_type": "code",
      "metadata": {
        "colab": {
          "base_uri": "https://localhost:8080/",
          "height": 1000
        },
        "id": "4vxXctYRvWi9",
        "outputId": "325714e6-eef1-4325-f82e-be33d43c7fc0"
      },
      "source": [
        "df.head().T"
      ],
      "execution_count": 21,
      "outputs": [
        {
          "output_type": "execute_result",
          "data": {
            "text/html": [
              "<div>\n",
              "<style scoped>\n",
              "    .dataframe tbody tr th:only-of-type {\n",
              "        vertical-align: middle;\n",
              "    }\n",
              "\n",
              "    .dataframe tbody tr th {\n",
              "        vertical-align: top;\n",
              "    }\n",
              "\n",
              "    .dataframe thead th {\n",
              "        text-align: right;\n",
              "    }\n",
              "</style>\n",
              "<table border=\"1\" class=\"dataframe\">\n",
              "  <thead>\n",
              "    <tr style=\"text-align: right;\">\n",
              "      <th></th>\n",
              "      <th>0</th>\n",
              "      <th>1</th>\n",
              "      <th>2</th>\n",
              "      <th>3</th>\n",
              "      <th>4</th>\n",
              "    </tr>\n",
              "  </thead>\n",
              "  <tbody>\n",
              "    <tr>\n",
              "      <th>left_eye_center_x</th>\n",
              "      <td>66.0336</td>\n",
              "      <td>64.3329</td>\n",
              "      <td>65.0571</td>\n",
              "      <td>65.2257</td>\n",
              "      <td>66.7253</td>\n",
              "    </tr>\n",
              "    <tr>\n",
              "      <th>left_eye_center_y</th>\n",
              "      <td>39.0023</td>\n",
              "      <td>34.9701</td>\n",
              "      <td>34.9096</td>\n",
              "      <td>37.2618</td>\n",
              "      <td>39.6213</td>\n",
              "    </tr>\n",
              "    <tr>\n",
              "      <th>right_eye_center_x</th>\n",
              "      <td>30.227</td>\n",
              "      <td>29.9493</td>\n",
              "      <td>30.9038</td>\n",
              "      <td>32.0231</td>\n",
              "      <td>32.2448</td>\n",
              "    </tr>\n",
              "    <tr>\n",
              "      <th>right_eye_center_y</th>\n",
              "      <td>36.4217</td>\n",
              "      <td>33.4487</td>\n",
              "      <td>34.9096</td>\n",
              "      <td>37.2618</td>\n",
              "      <td>38.042</td>\n",
              "    </tr>\n",
              "    <tr>\n",
              "      <th>left_eye_inner_corner_x</th>\n",
              "      <td>59.5821</td>\n",
              "      <td>58.8562</td>\n",
              "      <td>59.412</td>\n",
              "      <td>60.0033</td>\n",
              "      <td>58.5659</td>\n",
              "    </tr>\n",
              "    <tr>\n",
              "      <th>left_eye_inner_corner_y</th>\n",
              "      <td>39.6474</td>\n",
              "      <td>35.2743</td>\n",
              "      <td>36.321</td>\n",
              "      <td>39.1272</td>\n",
              "      <td>39.6213</td>\n",
              "    </tr>\n",
              "    <tr>\n",
              "      <th>left_eye_outer_corner_x</th>\n",
              "      <td>73.1303</td>\n",
              "      <td>70.7227</td>\n",
              "      <td>70.9844</td>\n",
              "      <td>72.3147</td>\n",
              "      <td>72.5159</td>\n",
              "    </tr>\n",
              "    <tr>\n",
              "      <th>left_eye_outer_corner_y</th>\n",
              "      <td>39.97</td>\n",
              "      <td>36.1872</td>\n",
              "      <td>36.321</td>\n",
              "      <td>38.381</td>\n",
              "      <td>39.8845</td>\n",
              "    </tr>\n",
              "    <tr>\n",
              "      <th>right_eye_inner_corner_x</th>\n",
              "      <td>36.3566</td>\n",
              "      <td>36.0347</td>\n",
              "      <td>37.6781</td>\n",
              "      <td>37.6186</td>\n",
              "      <td>36.9824</td>\n",
              "    </tr>\n",
              "    <tr>\n",
              "      <th>right_eye_inner_corner_y</th>\n",
              "      <td>37.3894</td>\n",
              "      <td>34.3615</td>\n",
              "      <td>36.321</td>\n",
              "      <td>38.7541</td>\n",
              "      <td>39.0949</td>\n",
              "    </tr>\n",
              "    <tr>\n",
              "      <th>right_eye_outer_corner_x</th>\n",
              "      <td>23.4529</td>\n",
              "      <td>24.4725</td>\n",
              "      <td>24.9764</td>\n",
              "      <td>25.3073</td>\n",
              "      <td>22.5061</td>\n",
              "    </tr>\n",
              "    <tr>\n",
              "      <th>right_eye_outer_corner_y</th>\n",
              "      <td>37.3894</td>\n",
              "      <td>33.1444</td>\n",
              "      <td>36.6032</td>\n",
              "      <td>38.0079</td>\n",
              "      <td>38.3052</td>\n",
              "    </tr>\n",
              "    <tr>\n",
              "      <th>left_eyebrow_inner_end_x</th>\n",
              "      <td>56.9533</td>\n",
              "      <td>53.9874</td>\n",
              "      <td>55.7425</td>\n",
              "      <td>56.4338</td>\n",
              "      <td>57.2496</td>\n",
              "    </tr>\n",
              "    <tr>\n",
              "      <th>left_eyebrow_inner_end_y</th>\n",
              "      <td>29.0336</td>\n",
              "      <td>28.2759</td>\n",
              "      <td>27.5709</td>\n",
              "      <td>30.9299</td>\n",
              "      <td>30.6722</td>\n",
              "    </tr>\n",
              "    <tr>\n",
              "      <th>left_eyebrow_outer_end_x</th>\n",
              "      <td>80.2271</td>\n",
              "      <td>78.6342</td>\n",
              "      <td>78.8874</td>\n",
              "      <td>77.9103</td>\n",
              "      <td>77.7629</td>\n",
              "    </tr>\n",
              "    <tr>\n",
              "      <th>left_eyebrow_outer_end_y</th>\n",
              "      <td>32.2281</td>\n",
              "      <td>30.4059</td>\n",
              "      <td>32.6516</td>\n",
              "      <td>31.6657</td>\n",
              "      <td>31.7372</td>\n",
              "    </tr>\n",
              "    <tr>\n",
              "      <th>right_eyebrow_inner_end_x</th>\n",
              "      <td>40.2276</td>\n",
              "      <td>42.7289</td>\n",
              "      <td>42.1939</td>\n",
              "      <td>41.6715</td>\n",
              "      <td>38.0354</td>\n",
              "    </tr>\n",
              "    <tr>\n",
              "      <th>right_eyebrow_inner_end_y</th>\n",
              "      <td>29.0023</td>\n",
              "      <td>26.146</td>\n",
              "      <td>28.1355</td>\n",
              "      <td>31.05</td>\n",
              "      <td>30.9354</td>\n",
              "    </tr>\n",
              "    <tr>\n",
              "      <th>right_eyebrow_outer_end_x</th>\n",
              "      <td>16.3564</td>\n",
              "      <td>16.8654</td>\n",
              "      <td>16.7912</td>\n",
              "      <td>20.458</td>\n",
              "      <td>15.9259</td>\n",
              "    </tr>\n",
              "    <tr>\n",
              "      <th>right_eyebrow_outer_end_y</th>\n",
              "      <td>29.6475</td>\n",
              "      <td>27.0589</td>\n",
              "      <td>32.0871</td>\n",
              "      <td>29.9093</td>\n",
              "      <td>30.6722</td>\n",
              "    </tr>\n",
              "    <tr>\n",
              "      <th>nose_tip_x</th>\n",
              "      <td>44.4206</td>\n",
              "      <td>48.2063</td>\n",
              "      <td>47.5573</td>\n",
              "      <td>51.8851</td>\n",
              "      <td>43.2995</td>\n",
              "    </tr>\n",
              "    <tr>\n",
              "      <th>nose_tip_y</th>\n",
              "      <td>57.0668</td>\n",
              "      <td>55.6609</td>\n",
              "      <td>53.5389</td>\n",
              "      <td>54.1665</td>\n",
              "      <td>64.8895</td>\n",
              "    </tr>\n",
              "    <tr>\n",
              "      <th>mouth_left_corner_x</th>\n",
              "      <td>61.1953</td>\n",
              "      <td>56.4214</td>\n",
              "      <td>60.8229</td>\n",
              "      <td>65.5989</td>\n",
              "      <td>60.6714</td>\n",
              "    </tr>\n",
              "    <tr>\n",
              "      <th>mouth_left_corner_y</th>\n",
              "      <td>79.9702</td>\n",
              "      <td>76.352</td>\n",
              "      <td>73.0143</td>\n",
              "      <td>72.7037</td>\n",
              "      <td>77.5232</td>\n",
              "    </tr>\n",
              "    <tr>\n",
              "      <th>mouth_right_corner_x</th>\n",
              "      <td>28.6145</td>\n",
              "      <td>35.1224</td>\n",
              "      <td>33.7263</td>\n",
              "      <td>37.2455</td>\n",
              "      <td>31.1918</td>\n",
              "    </tr>\n",
              "    <tr>\n",
              "      <th>mouth_right_corner_y</th>\n",
              "      <td>77.389</td>\n",
              "      <td>76.0477</td>\n",
              "      <td>72.732</td>\n",
              "      <td>74.1955</td>\n",
              "      <td>76.9973</td>\n",
              "    </tr>\n",
              "    <tr>\n",
              "      <th>mouth_center_top_lip_x</th>\n",
              "      <td>43.3126</td>\n",
              "      <td>46.6846</td>\n",
              "      <td>47.2749</td>\n",
              "      <td>50.3032</td>\n",
              "      <td>44.9627</td>\n",
              "    </tr>\n",
              "    <tr>\n",
              "      <th>mouth_center_top_lip_y</th>\n",
              "      <td>72.9355</td>\n",
              "      <td>70.2666</td>\n",
              "      <td>70.1918</td>\n",
              "      <td>70.0917</td>\n",
              "      <td>73.7074</td>\n",
              "    </tr>\n",
              "    <tr>\n",
              "      <th>mouth_center_bottom_lip_x</th>\n",
              "      <td>43.1307</td>\n",
              "      <td>45.4679</td>\n",
              "      <td>47.2749</td>\n",
              "      <td>51.5612</td>\n",
              "      <td>44.2271</td>\n",
              "    </tr>\n",
              "    <tr>\n",
              "      <th>mouth_center_bottom_lip_y</th>\n",
              "      <td>84.4858</td>\n",
              "      <td>85.4802</td>\n",
              "      <td>78.6594</td>\n",
              "      <td>78.2684</td>\n",
              "      <td>86.8712</td>\n",
              "    </tr>\n",
              "    <tr>\n",
              "      <th>Image</th>\n",
              "      <td>238 236 237 238 240 240 239 241 241 243 240 23...</td>\n",
              "      <td>219 215 204 196 204 211 212 200 180 168 178 19...</td>\n",
              "      <td>144 142 159 180 188 188 184 180 167 132 84 59 ...</td>\n",
              "      <td>193 192 193 194 194 194 193 192 168 111 50 12 ...</td>\n",
              "      <td>147 148 160 196 215 214 216 217 219 220 206 18...</td>\n",
              "    </tr>\n",
              "  </tbody>\n",
              "</table>\n",
              "</div>"
            ],
            "text/plain": [
              "                                                                           0  ...                                                  4\n",
              "left_eye_center_x                                                    66.0336  ...                                            66.7253\n",
              "left_eye_center_y                                                    39.0023  ...                                            39.6213\n",
              "right_eye_center_x                                                    30.227  ...                                            32.2448\n",
              "right_eye_center_y                                                   36.4217  ...                                             38.042\n",
              "left_eye_inner_corner_x                                              59.5821  ...                                            58.5659\n",
              "left_eye_inner_corner_y                                              39.6474  ...                                            39.6213\n",
              "left_eye_outer_corner_x                                              73.1303  ...                                            72.5159\n",
              "left_eye_outer_corner_y                                                39.97  ...                                            39.8845\n",
              "right_eye_inner_corner_x                                             36.3566  ...                                            36.9824\n",
              "right_eye_inner_corner_y                                             37.3894  ...                                            39.0949\n",
              "right_eye_outer_corner_x                                             23.4529  ...                                            22.5061\n",
              "right_eye_outer_corner_y                                             37.3894  ...                                            38.3052\n",
              "left_eyebrow_inner_end_x                                             56.9533  ...                                            57.2496\n",
              "left_eyebrow_inner_end_y                                             29.0336  ...                                            30.6722\n",
              "left_eyebrow_outer_end_x                                             80.2271  ...                                            77.7629\n",
              "left_eyebrow_outer_end_y                                             32.2281  ...                                            31.7372\n",
              "right_eyebrow_inner_end_x                                            40.2276  ...                                            38.0354\n",
              "right_eyebrow_inner_end_y                                            29.0023  ...                                            30.9354\n",
              "right_eyebrow_outer_end_x                                            16.3564  ...                                            15.9259\n",
              "right_eyebrow_outer_end_y                                            29.6475  ...                                            30.6722\n",
              "nose_tip_x                                                           44.4206  ...                                            43.2995\n",
              "nose_tip_y                                                           57.0668  ...                                            64.8895\n",
              "mouth_left_corner_x                                                  61.1953  ...                                            60.6714\n",
              "mouth_left_corner_y                                                  79.9702  ...                                            77.5232\n",
              "mouth_right_corner_x                                                 28.6145  ...                                            31.1918\n",
              "mouth_right_corner_y                                                  77.389  ...                                            76.9973\n",
              "mouth_center_top_lip_x                                               43.3126  ...                                            44.9627\n",
              "mouth_center_top_lip_y                                               72.9355  ...                                            73.7074\n",
              "mouth_center_bottom_lip_x                                            43.1307  ...                                            44.2271\n",
              "mouth_center_bottom_lip_y                                            84.4858  ...                                            86.8712\n",
              "Image                      238 236 237 238 240 240 239 241 241 243 240 23...  ...  147 148 160 196 215 214 216 217 219 220 206 18...\n",
              "\n",
              "[31 rows x 5 columns]"
            ]
          },
          "metadata": {
            "tags": []
          },
          "execution_count": 21
        }
      ]
    },
    {
      "cell_type": "code",
      "metadata": {
        "colab": {
          "base_uri": "https://localhost:8080/",
          "height": 221
        },
        "id": "ET1BAxQuvYch",
        "outputId": "ce6baeea-37f8-44f8-af9f-7689bf1d6f49"
      },
      "source": [
        "df.head().T.tail()"
      ],
      "execution_count": 22,
      "outputs": [
        {
          "output_type": "execute_result",
          "data": {
            "text/html": [
              "<div>\n",
              "<style scoped>\n",
              "    .dataframe tbody tr th:only-of-type {\n",
              "        vertical-align: middle;\n",
              "    }\n",
              "\n",
              "    .dataframe tbody tr th {\n",
              "        vertical-align: top;\n",
              "    }\n",
              "\n",
              "    .dataframe thead th {\n",
              "        text-align: right;\n",
              "    }\n",
              "</style>\n",
              "<table border=\"1\" class=\"dataframe\">\n",
              "  <thead>\n",
              "    <tr style=\"text-align: right;\">\n",
              "      <th></th>\n",
              "      <th>0</th>\n",
              "      <th>1</th>\n",
              "      <th>2</th>\n",
              "      <th>3</th>\n",
              "      <th>4</th>\n",
              "    </tr>\n",
              "  </thead>\n",
              "  <tbody>\n",
              "    <tr>\n",
              "      <th>mouth_center_top_lip_x</th>\n",
              "      <td>43.3126</td>\n",
              "      <td>46.6846</td>\n",
              "      <td>47.2749</td>\n",
              "      <td>50.3032</td>\n",
              "      <td>44.9627</td>\n",
              "    </tr>\n",
              "    <tr>\n",
              "      <th>mouth_center_top_lip_y</th>\n",
              "      <td>72.9355</td>\n",
              "      <td>70.2666</td>\n",
              "      <td>70.1918</td>\n",
              "      <td>70.0917</td>\n",
              "      <td>73.7074</td>\n",
              "    </tr>\n",
              "    <tr>\n",
              "      <th>mouth_center_bottom_lip_x</th>\n",
              "      <td>43.1307</td>\n",
              "      <td>45.4679</td>\n",
              "      <td>47.2749</td>\n",
              "      <td>51.5612</td>\n",
              "      <td>44.2271</td>\n",
              "    </tr>\n",
              "    <tr>\n",
              "      <th>mouth_center_bottom_lip_y</th>\n",
              "      <td>84.4858</td>\n",
              "      <td>85.4802</td>\n",
              "      <td>78.6594</td>\n",
              "      <td>78.2684</td>\n",
              "      <td>86.8712</td>\n",
              "    </tr>\n",
              "    <tr>\n",
              "      <th>Image</th>\n",
              "      <td>238 236 237 238 240 240 239 241 241 243 240 23...</td>\n",
              "      <td>219 215 204 196 204 211 212 200 180 168 178 19...</td>\n",
              "      <td>144 142 159 180 188 188 184 180 167 132 84 59 ...</td>\n",
              "      <td>193 192 193 194 194 194 193 192 168 111 50 12 ...</td>\n",
              "      <td>147 148 160 196 215 214 216 217 219 220 206 18...</td>\n",
              "    </tr>\n",
              "  </tbody>\n",
              "</table>\n",
              "</div>"
            ],
            "text/plain": [
              "                                                                           0  ...                                                  4\n",
              "mouth_center_top_lip_x                                               43.3126  ...                                            44.9627\n",
              "mouth_center_top_lip_y                                               72.9355  ...                                            73.7074\n",
              "mouth_center_bottom_lip_x                                            43.1307  ...                                            44.2271\n",
              "mouth_center_bottom_lip_y                                            84.4858  ...                                            86.8712\n",
              "Image                      238 236 237 238 240 240 239 241 241 243 240 23...  ...  147 148 160 196 215 214 216 217 219 220 206 18...\n",
              "\n",
              "[5 rows x 5 columns]"
            ]
          },
          "metadata": {
            "tags": []
          },
          "execution_count": 22
        }
      ]
    },
    {
      "cell_type": "code",
      "metadata": {
        "id": "jzLBjF74yWLd"
      },
      "source": [
        "# df.shape\r\n",
        "# (2140, 31)\r\n",
        "\r\n",
        "# print(type(df['Image']))\r\n",
        "# <class 'pandas.core.series.Series'>\r\n",
        "\r\n",
        "# len(df['Image'][0])\r\n",
        "# 33593\r\n",
        "\r\n",
        "# df['Image'][0][0]\r\n",
        "# '2'\r\n",
        "\r\n",
        "# type(df['Image'][0][0])\r\n",
        "# str\r\n",
        "\r\n",
        "# df['Image'][0][3]\r\n",
        "# ' '\r\n",
        "\r\n",
        "# type(df['Image'][0][3])\r\n",
        "# str"
      ],
      "execution_count": 23,
      "outputs": []
    },
    {
      "cell_type": "code",
      "metadata": {
        "id": "o5y8Go1jjDHJ"
      },
      "source": [
        "X = df['Image'].str.split(' ')\r\n",
        "\r\n",
        "# print(type(X))\r\n",
        "# <class 'pandas.core.series.Series'>\r\n",
        "\r\n",
        "# len(X)\r\n",
        "# 2140\r\n",
        "\r\n",
        "# len(X[0])\r\n",
        "# 9216\r\n",
        "\r\n",
        "# X[0][0]\r\n",
        "# '238'\r\n",
        "\r\n",
        "# type(X[0][0])\r\n",
        "# str\r\n",
        "\r\n",
        "# X[0][3]\r\n",
        "# '238'\r\n",
        "\r\n",
        "# type(X[0][3])\r\n",
        "# str"
      ],
      "execution_count": 24,
      "outputs": []
    },
    {
      "cell_type": "code",
      "metadata": {
        "id": "mLcxPweYxMtX"
      },
      "source": [
        "# print(X[0])\r\n",
        "# ['238' '236' '237' ...  '70'  '75'  '90']"
      ],
      "execution_count": 36,
      "outputs": []
    },
    {
      "cell_type": "code",
      "metadata": {
        "id": "No13jVgoxrGz"
      },
      "source": [
        "# print(X[1])\r\n",
        "# ['219' '215' '204' ...   '1'   '1'   '1']"
      ],
      "execution_count": 37,
      "outputs": []
    },
    {
      "cell_type": "code",
      "metadata": {
        "id": "S7MCecHQ1DL3"
      },
      "source": [
        "input_list = []\r\n",
        "\r\n",
        "for i in range(len(X)):\r\n",
        "  input_list.append(X[i])\r\n",
        "\r\n",
        "inputs = np.array(input_list, dtype=int)"
      ],
      "execution_count": 29,
      "outputs": []
    },
    {
      "cell_type": "code",
      "metadata": {
        "id": "QmWzRMbhyHVz"
      },
      "source": [
        "# print(inputs[0])\r\n",
        "# [238 236 237 ...  70  75  90]"
      ],
      "execution_count": 34,
      "outputs": []
    },
    {
      "cell_type": "code",
      "metadata": {
        "id": "SBBaflzOydY2"
      },
      "source": [
        "# print(inputs[1])\r\n",
        "# [219 215 204 ...   1   1   1]"
      ],
      "execution_count": 35,
      "outputs": []
    },
    {
      "cell_type": "code",
      "metadata": {
        "id": "3tIkpK0h2UYD"
      },
      "source": [
        "# print(type(inputs))\r\n",
        "# <class 'numpy.ndarray'>\r\n",
        "\r\n",
        "# len(inputs)\r\n",
        "# 2140\r\n",
        "\r\n",
        "# len(inputs[0])\r\n",
        "# 9216\r\n",
        "\r\n",
        "# inputs[0][0]\r\n",
        "# 238\r\n",
        "\r\n",
        "# type(inputs[0][0])\r\n",
        "# numpy.int64\r\n",
        "\r\n",
        "# inputs[0][3]\r\n",
        "# 238\r\n",
        "\r\n",
        "# type(inputs[0][3])\r\n",
        "# numpy.int64"
      ],
      "execution_count": 33,
      "outputs": []
    },
    {
      "cell_type": "code",
      "metadata": {
        "id": "HMXTFV_OjyOe"
      },
      "source": [
        "Y = (df.drop(columns='Image', axis=1)).values\r\n",
        "\r\n",
        "# print(Y.shape)\r\n",
        "# (2140, 30)\r\n",
        "\r\n",
        "# print(type(Y))\r\n",
        "# <class 'numpy.ndarray'>"
      ],
      "execution_count": null,
      "outputs": []
    },
    {
      "cell_type": "code",
      "metadata": {
        "colab": {
          "base_uri": "https://localhost:8080/"
        },
        "id": "fT2laShBuhgK",
        "outputId": "e2400258-26c9-4b34-ced3-544603d3daff"
      },
      "source": [
        "HOW TO RESHAPE ALL TO 96, 96"
      ],
      "execution_count": null,
      "outputs": [
        {
          "output_type": "execute_result",
          "data": {
            "text/plain": [
              "96"
            ]
          },
          "metadata": {
            "tags": []
          },
          "execution_count": 77
        }
      ]
    },
    {
      "cell_type": "code",
      "metadata": {
        "id": "lYLMJF2nSIV1"
      },
      "source": [
        "# df['Image'].dtype\r\n",
        "# dtype('O')\r\n",
        "\r\n",
        "# type(df['Image'])\r\n",
        "# pandas.core.series.Series"
      ],
      "execution_count": null,
      "outputs": []
    },
    {
      "cell_type": "code",
      "metadata": {
        "colab": {
          "base_uri": "https://localhost:8080/"
        },
        "id": "iRhk3T-tfb7Y",
        "outputId": "ebbcec08-7b04-4fb1-c55a-587a6cb95e52"
      },
      "source": [
        "df['Image'].apply(len)"
      ],
      "execution_count": null,
      "outputs": [
        {
          "output_type": "execute_result",
          "data": {
            "text/plain": [
              "0       96\n",
              "1       96\n",
              "2       96\n",
              "3       96\n",
              "4       96\n",
              "        ..\n",
              "2135    96\n",
              "2136    96\n",
              "2137    96\n",
              "2138    96\n",
              "2139    96\n",
              "Name: Image, Length: 2140, dtype: int64"
            ]
          },
          "metadata": {
            "tags": []
          },
          "execution_count": 14
        }
      ]
    },
    {
      "cell_type": "code",
      "metadata": {
        "id": "D-YlJ8qyZOZV"
      },
      "source": [
        "# type(df['Image'][0][0])\r\n",
        "# str\r\n",
        "\r\n",
        "# type(df['Image'][0][3])\r\n",
        "# str\r\n",
        "\r\n",
        "# df['Image'][0][0]\r\n",
        "# '2'\r\n",
        "\r\n",
        "# df['Image'][0][3]\r\n",
        "# ' '"
      ],
      "execution_count": null,
      "outputs": []
    },
    {
      "cell_type": "code",
      "metadata": {
        "colab": {
          "base_uri": "https://localhost:8080/",
          "height": 326
        },
        "id": "eTCbJFJMLCVC",
        "outputId": "ed7ec6a1-e730-4ea3-f5f9-8782374a333a"
      },
      "source": [
        "df['Image'] = df['Image'].apply(lambda x: np.fromstring(x, dtype = int, sep = ' ').reshape(96, 96))"
      ],
      "execution_count": null,
      "outputs": [
        {
          "output_type": "stream",
          "text": [
            "/usr/local/lib/python3.6/dist-packages/ipykernel_launcher.py:1: DeprecationWarning: string or file could not be read to its end due to unmatched data; this will raise a ValueError in the future.\n",
            "  \"\"\"Entry point for launching an IPython kernel.\n"
          ],
          "name": "stderr"
        },
        {
          "output_type": "error",
          "ename": "ValueError",
          "evalue": "ignored",
          "traceback": [
            "\u001b[0;31m---------------------------------------------------------------------------\u001b[0m",
            "\u001b[0;31mValueError\u001b[0m                                Traceback (most recent call last)",
            "\u001b[0;32m<ipython-input-16-b3dfb2c1aa03>\u001b[0m in \u001b[0;36m<module>\u001b[0;34m()\u001b[0m\n\u001b[0;32m----> 1\u001b[0;31m \u001b[0mdf\u001b[0m\u001b[0;34m[\u001b[0m\u001b[0;34m'Image'\u001b[0m\u001b[0;34m]\u001b[0m \u001b[0;34m=\u001b[0m \u001b[0mdf\u001b[0m\u001b[0;34m[\u001b[0m\u001b[0;34m'Image'\u001b[0m\u001b[0;34m]\u001b[0m\u001b[0;34m.\u001b[0m\u001b[0mapply\u001b[0m\u001b[0;34m(\u001b[0m\u001b[0;32mlambda\u001b[0m \u001b[0mx\u001b[0m\u001b[0;34m:\u001b[0m \u001b[0mnp\u001b[0m\u001b[0;34m.\u001b[0m\u001b[0mfromstring\u001b[0m\u001b[0;34m(\u001b[0m\u001b[0mx\u001b[0m\u001b[0;34m,\u001b[0m \u001b[0mdtype\u001b[0m \u001b[0;34m=\u001b[0m \u001b[0mint\u001b[0m\u001b[0;34m,\u001b[0m \u001b[0msep\u001b[0m \u001b[0;34m=\u001b[0m \u001b[0;34m' '\u001b[0m\u001b[0;34m)\u001b[0m\u001b[0;34m.\u001b[0m\u001b[0mreshape\u001b[0m\u001b[0;34m(\u001b[0m\u001b[0;36m96\u001b[0m\u001b[0;34m,\u001b[0m \u001b[0;36m96\u001b[0m\u001b[0;34m)\u001b[0m\u001b[0;34m)\u001b[0m\u001b[0;34m\u001b[0m\u001b[0;34m\u001b[0m\u001b[0m\n\u001b[0m",
            "\u001b[0;32m/usr/local/lib/python3.6/dist-packages/pandas/core/series.py\u001b[0m in \u001b[0;36mapply\u001b[0;34m(self, func, convert_dtype, args, **kwds)\u001b[0m\n\u001b[1;32m   4211\u001b[0m             \u001b[0;32melse\u001b[0m\u001b[0;34m:\u001b[0m\u001b[0;34m\u001b[0m\u001b[0;34m\u001b[0m\u001b[0m\n\u001b[1;32m   4212\u001b[0m                 \u001b[0mvalues\u001b[0m \u001b[0;34m=\u001b[0m \u001b[0mself\u001b[0m\u001b[0;34m.\u001b[0m\u001b[0mastype\u001b[0m\u001b[0;34m(\u001b[0m\u001b[0mobject\u001b[0m\u001b[0;34m)\u001b[0m\u001b[0;34m.\u001b[0m\u001b[0m_values\u001b[0m\u001b[0;34m\u001b[0m\u001b[0;34m\u001b[0m\u001b[0m\n\u001b[0;32m-> 4213\u001b[0;31m                 \u001b[0mmapped\u001b[0m \u001b[0;34m=\u001b[0m \u001b[0mlib\u001b[0m\u001b[0;34m.\u001b[0m\u001b[0mmap_infer\u001b[0m\u001b[0;34m(\u001b[0m\u001b[0mvalues\u001b[0m\u001b[0;34m,\u001b[0m \u001b[0mf\u001b[0m\u001b[0;34m,\u001b[0m \u001b[0mconvert\u001b[0m\u001b[0;34m=\u001b[0m\u001b[0mconvert_dtype\u001b[0m\u001b[0;34m)\u001b[0m\u001b[0;34m\u001b[0m\u001b[0;34m\u001b[0m\u001b[0m\n\u001b[0m\u001b[1;32m   4214\u001b[0m \u001b[0;34m\u001b[0m\u001b[0m\n\u001b[1;32m   4215\u001b[0m         \u001b[0;32mif\u001b[0m \u001b[0mlen\u001b[0m\u001b[0;34m(\u001b[0m\u001b[0mmapped\u001b[0m\u001b[0;34m)\u001b[0m \u001b[0;32mand\u001b[0m \u001b[0misinstance\u001b[0m\u001b[0;34m(\u001b[0m\u001b[0mmapped\u001b[0m\u001b[0;34m[\u001b[0m\u001b[0;36m0\u001b[0m\u001b[0;34m]\u001b[0m\u001b[0;34m,\u001b[0m \u001b[0mSeries\u001b[0m\u001b[0;34m)\u001b[0m\u001b[0;34m:\u001b[0m\u001b[0;34m\u001b[0m\u001b[0;34m\u001b[0m\u001b[0m\n",
            "\u001b[0;32mpandas/_libs/lib.pyx\u001b[0m in \u001b[0;36mpandas._libs.lib.map_infer\u001b[0;34m()\u001b[0m\n",
            "\u001b[0;32m<ipython-input-16-b3dfb2c1aa03>\u001b[0m in \u001b[0;36m<lambda>\u001b[0;34m(x)\u001b[0m\n\u001b[0;32m----> 1\u001b[0;31m \u001b[0mdf\u001b[0m\u001b[0;34m[\u001b[0m\u001b[0;34m'Image'\u001b[0m\u001b[0;34m]\u001b[0m \u001b[0;34m=\u001b[0m \u001b[0mdf\u001b[0m\u001b[0;34m[\u001b[0m\u001b[0;34m'Image'\u001b[0m\u001b[0;34m]\u001b[0m\u001b[0;34m.\u001b[0m\u001b[0mapply\u001b[0m\u001b[0;34m(\u001b[0m\u001b[0;32mlambda\u001b[0m \u001b[0mx\u001b[0m\u001b[0;34m:\u001b[0m \u001b[0mnp\u001b[0m\u001b[0;34m.\u001b[0m\u001b[0mfromstring\u001b[0m\u001b[0;34m(\u001b[0m\u001b[0mx\u001b[0m\u001b[0;34m,\u001b[0m \u001b[0mdtype\u001b[0m \u001b[0;34m=\u001b[0m \u001b[0mint\u001b[0m\u001b[0;34m,\u001b[0m \u001b[0msep\u001b[0m \u001b[0;34m=\u001b[0m \u001b[0;34m' '\u001b[0m\u001b[0;34m)\u001b[0m\u001b[0;34m.\u001b[0m\u001b[0mreshape\u001b[0m\u001b[0;34m(\u001b[0m\u001b[0;36m96\u001b[0m\u001b[0;34m,\u001b[0m \u001b[0;36m96\u001b[0m\u001b[0;34m)\u001b[0m\u001b[0;34m)\u001b[0m\u001b[0;34m\u001b[0m\u001b[0;34m\u001b[0m\u001b[0m\n\u001b[0m",
            "\u001b[0;31mValueError\u001b[0m: cannot reshape array of size 0 into shape (96,96)"
          ]
        }
      ]
    },
    {
      "cell_type": "code",
      "metadata": {
        "id": "rbToin8NVsty"
      },
      "source": [
        "# df['Image'][0][0]\r\n",
        "\r\n",
        "# array([238, 236, 237, 238, 240, 240, 239, 241, 241, 243, 240, 239, 231,\r\n",
        "#        212, 190, 173, 148, 122, 104,  92,  79,  73,  74,  73,  73,  74,\r\n",
        "#         81,  74,  60,  64,  75,  86,  93, 102, 100, 105, 109, 114, 121,\r\n",
        "#        127, 132, 134, 137, 137, 140, 139, 138, 137, 137, 140, 141, 143,\r\n",
        "#        144, 147, 148, 149, 147, 147, 148, 145, 147, 144, 146, 147, 147,\r\n",
        "#        143, 134, 130, 130, 128, 116, 104,  98,  90,  82,  78,  85,  88,\r\n",
        "#         86,  80,  77,  87, 108, 111, 115, 128, 133, 188, 242, 252, 250,\r\n",
        "#        248, 251, 250, 250, 250])\r\n",
        "\r\n",
        "# type(df['Image'][0][0][0])\r\n",
        "# numpy.int64\r\n",
        "\r\n",
        "# type(df['Image'][0][0][3])\r\n",
        "# numpy.int64\r\n",
        "\r\n",
        "# df['Image'][0][0][0]\r\n",
        "# 238\r\n",
        "\r\n",
        "# df['Image'][0][0][3]\r\n",
        "# 238"
      ],
      "execution_count": null,
      "outputs": []
    },
    {
      "cell_type": "code",
      "metadata": {
        "id": "V8exHVzfVVEP"
      },
      "source": [
        "df['Image'].apply(len)"
      ],
      "execution_count": null,
      "outputs": []
    },
    {
      "cell_type": "code",
      "metadata": {
        "id": "MuspvDkpiDoF"
      },
      "source": [
        "df['Image'][0].shape"
      ],
      "execution_count": null,
      "outputs": []
    },
    {
      "cell_type": "code",
      "metadata": {
        "id": "VDQkTWJ_htGg"
      },
      "source": [
        "plt.imshow(df['Image'][0], cmap='gray')"
      ],
      "execution_count": null,
      "outputs": []
    }
  ]
}